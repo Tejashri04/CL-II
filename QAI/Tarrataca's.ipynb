{
 "cells": [
  {
   "cell_type": "code",
   "execution_count": 1,
   "id": "02e4b580",
   "metadata": {},
   "outputs": [
    {
     "name": "stdout",
     "output_type": "stream",
     "text": [
      "Requirement already satisfied: qiskit in c:\\users\\hp\\anaconda3\\lib\\site-packages (1.2.4)\n",
      "Requirement already satisfied: rustworkx>=0.15.0 in c:\\users\\hp\\anaconda3\\lib\\site-packages (from qiskit) (0.15.1)\n",
      "Requirement already satisfied: numpy<3,>=1.17 in c:\\users\\hp\\anaconda3\\lib\\site-packages (from qiskit) (1.24.3)\n",
      "Requirement already satisfied: scipy>=1.5 in c:\\users\\hp\\anaconda3\\lib\\site-packages (from qiskit) (1.11.1)\n",
      "Requirement already satisfied: sympy>=1.3 in c:\\users\\hp\\anaconda3\\lib\\site-packages (from qiskit) (1.11.1)\n",
      "Requirement already satisfied: dill>=0.3 in c:\\users\\hp\\anaconda3\\lib\\site-packages (from qiskit) (0.3.6)\n",
      "Requirement already satisfied: python-dateutil>=2.8.0 in c:\\users\\hp\\anaconda3\\lib\\site-packages (from qiskit) (2.8.2)\n",
      "Requirement already satisfied: stevedore>=3.0.0 in c:\\users\\hp\\anaconda3\\lib\\site-packages (from qiskit) (5.3.0)\n",
      "Requirement already satisfied: typing-extensions in c:\\users\\hp\\anaconda3\\lib\\site-packages (from qiskit) (4.7.1)\n",
      "Requirement already satisfied: symengine<0.14,>=0.11 in c:\\users\\hp\\anaconda3\\lib\\site-packages (from qiskit) (0.13.0)\n",
      "Requirement already satisfied: six>=1.5 in c:\\users\\hp\\anaconda3\\lib\\site-packages (from python-dateutil>=2.8.0->qiskit) (1.16.0)\n",
      "Requirement already satisfied: pbr>=2.0.0 in c:\\users\\hp\\anaconda3\\lib\\site-packages (from stevedore>=3.0.0->qiskit) (6.1.0)\n",
      "Requirement already satisfied: mpmath>=0.19 in c:\\users\\hp\\anaconda3\\lib\\site-packages (from sympy>=1.3->qiskit) (1.3.0)\n",
      "Note: you may need to restart the kernel to use updated packages.\n",
      "Requirement already satisfied: qiskit-aer in c:\\users\\hp\\anaconda3\\lib\\site-packages (0.15.1)\n",
      "Requirement already satisfied: qiskit>=1.1.0 in c:\\users\\hp\\anaconda3\\lib\\site-packages (from qiskit-aer) (1.2.4)\n",
      "Requirement already satisfied: numpy>=1.16.3 in c:\\users\\hp\\anaconda3\\lib\\site-packages (from qiskit-aer) (1.24.3)\n",
      "Requirement already satisfied: scipy>=1.0 in c:\\users\\hp\\anaconda3\\lib\\site-packages (from qiskit-aer) (1.11.1)\n",
      "Requirement already satisfied: psutil>=5 in c:\\users\\hp\\anaconda3\\lib\\site-packages (from qiskit-aer) (5.9.0)\n",
      "Requirement already satisfied: rustworkx>=0.15.0 in c:\\users\\hp\\anaconda3\\lib\\site-packages (from qiskit>=1.1.0->qiskit-aer) (0.15.1)\n",
      "Requirement already satisfied: sympy>=1.3 in c:\\users\\hp\\anaconda3\\lib\\site-packages (from qiskit>=1.1.0->qiskit-aer) (1.11.1)\n",
      "Requirement already satisfied: dill>=0.3 in c:\\users\\hp\\anaconda3\\lib\\site-packages (from qiskit>=1.1.0->qiskit-aer) (0.3.6)\n",
      "Requirement already satisfied: python-dateutil>=2.8.0 in c:\\users\\hp\\anaconda3\\lib\\site-packages (from qiskit>=1.1.0->qiskit-aer) (2.8.2)\n",
      "Requirement already satisfied: stevedore>=3.0.0 in c:\\users\\hp\\anaconda3\\lib\\site-packages (from qiskit>=1.1.0->qiskit-aer) (5.3.0)\n",
      "Requirement already satisfied: typing-extensions in c:\\users\\hp\\anaconda3\\lib\\site-packages (from qiskit>=1.1.0->qiskit-aer) (4.7.1)\n",
      "Requirement already satisfied: symengine<0.14,>=0.11 in c:\\users\\hp\\anaconda3\\lib\\site-packages (from qiskit>=1.1.0->qiskit-aer) (0.13.0)\n",
      "Requirement already satisfied: six>=1.5 in c:\\users\\hp\\anaconda3\\lib\\site-packages (from python-dateutil>=2.8.0->qiskit>=1.1.0->qiskit-aer) (1.16.0)\n",
      "Requirement already satisfied: pbr>=2.0.0 in c:\\users\\hp\\anaconda3\\lib\\site-packages (from stevedore>=3.0.0->qiskit>=1.1.0->qiskit-aer) (6.1.0)\n",
      "Requirement already satisfied: mpmath>=0.19 in c:\\users\\hp\\anaconda3\\lib\\site-packages (from sympy>=1.3->qiskit>=1.1.0->qiskit-aer) (1.3.0)\n",
      "Note: you may need to restart the kernel to use updated packages.\n"
     ]
    }
   ],
   "source": [
    "#Implement Tarrataca’s quantum production system with the 3-puzzle problem\n",
    "%pip install qiskit\n",
    "%pip install qiskit-aer"
   ]
  },
  {
   "cell_type": "code",
   "execution_count": 2,
   "id": "f117c732",
   "metadata": {},
   "outputs": [],
   "source": [
    "from qiskit import QuantumCircuit, ClassicalRegister, QuantumRegister,transpile\n",
    "from qiskit.circuit.library import GroverOperator\n",
    "from qiskit_aer import AerSimulator"
   ]
  },
  {
   "cell_type": "code",
   "execution_count": 3,
   "id": "e64d8649",
   "metadata": {},
   "outputs": [],
   "source": [
    "import matplotlib.pyplot as plt\n",
    "import seaborn as sns"
   ]
  },
  {
   "cell_type": "code",
   "execution_count": 4,
   "id": "425ade74",
   "metadata": {},
   "outputs": [],
   "source": [
    "def create_3_puzzle_circuit():\n",
    "    \"\"\"Create the quantum circuit for solving the 3-puzzle problem using Grover's algorithm.\"\"\"\n",
    "    # Initialize quantum and classical registers\n",
    "    qr = QuantumRegister(3, 'q')\n",
    "    cr = ClassicalRegister(3, 'c')\n",
    "    qc = QuantumCircuit(qr, cr)\n",
    "\n",
    "    # Initial state |000>\n",
    "    # CNOT gates to exchange positions of qubits\n",
    "    qc.cx(qr[0], qr[1])\n",
    "    qc.cx(qr[1], qr[2])\n",
    "\n",
    "    # Apply Hadamard gates to create superposition\n",
    "    qc.h(qr[0])\n",
    "    qc.h(qr[1])\n",
    "    qc.h(qr[2])\n",
    "\n",
    "    # Placeholder for Grover's algorithm\n",
    "    # This requires defining an oracle and the Grover operator\n",
    "    # Here we use a simple placeholder to illustrate the concept\n",
    "    oracle = QuantumCircuit(3)\n",
    "    oracle.z(0)  # Example oracle condition (adjust based on the puzzle's rules)\n",
    "    oracle_gate = oracle.to_gate(label=\"Oracle\")\n",
    "\n",
    "    # Grover operator\n",
    "    grover_operator = GroverOperator(oracle)\n",
    "    qc.append(grover_operator, qr)\n",
    "\n",
    "    # Measurement\n",
    "    qc.measure(qr, cr)\n",
    "    return qc"
   ]
  },
  {
   "cell_type": "code",
   "execution_count": 5,
   "id": "32c52e81",
   "metadata": {},
   "outputs": [
    {
     "name": "stdout",
     "output_type": "stream",
     "text": [
      "Measurement results from the 3-puzzle quantum circuit:\n",
      "{'001': 136, '011': 121, '101': 118, '100': 110, '110': 137, '111': 120, '000': 134, '010': 148}\n"
     ]
    }
   ],
   "source": [
    "# Create the 3-puzzle quantum circuit\n",
    "qc = create_3_puzzle_circuit()\n",
    "\n",
    "# Execute the circuit on a quantum simulator\n",
    "simulator = AerSimulator()\n",
    "transpiled_qc = transpile(qc, simulator)\n",
    "\n",
    "job = simulator.run(transpiled_qc, shots=1024)\n",
    "result = job.result()\n",
    "counts = result.get_counts()\n",
    "\n",
    "# Output the result\n",
    "print(\"Measurement results from the 3-puzzle quantum circuit:\")\n",
    "print(counts)"
   ]
  },
  {
   "cell_type": "code",
   "execution_count": 6,
   "id": "3be00b66",
   "metadata": {},
   "outputs": [
    {
     "data": {
      "image/png": "[encoded data removed]",
      "text/plain": [
       "<Figure size 640x480 with 1 Axes>"
      ]
     },
     "metadata": {},
     "output_type": "display_data"
    }
   ],
   "source": [
    "sns.barplot(x=list(counts.keys()), y=list(counts.values()))\n",
    "plt.xlabel('Measurement Outcomes')\n",
    "plt.ylabel('Counts')\n",
    "plt.title('3-Puzzle Quantum Circuit Measurement Results')\n",
    "plt.show()"
   ]
  },
  {
   "cell_type": "code",
   "execution_count": null,
   "id": "510deb96",
   "metadata": {},
   "outputs": [],
   "source": []
  }
 ],
 "metadata": {
  "kernelspec": {
   "display_name": "Python 3 (ipykernel)",
   "language": "python",
   "name": "python3"
  },
  "language_info": {
   "codemirror_mode": {
    "name": "ipython",
    "version": 3
   },
   "file_extension": ".py",
   "mimetype": "text/x-python",
   "name": "python",
   "nbconvert_exporter": "python",
   "pygments_lexer": "ipython3",
   "version": "3.11.5"
  }
 },
 "nbformat": 4,
 "nbformat_minor": 5
}
