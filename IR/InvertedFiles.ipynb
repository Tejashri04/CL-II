{
 "cells": [
  {
   "cell_type": "code",
   "execution_count": 8,
   "id": "a17d3af0",
   "metadata": {},
   "outputs": [],
   "source": [
    "import re \n",
    "from collections import defaultdict"
   ]
  },
  {
   "cell_type": "code",
   "execution_count": 9,
   "id": "237a994a",
   "metadata": {},
   "outputs": [],
   "source": [
    "documents = { \n",
    "    1: \"This is the first document. It contains some text.\", \n",
    "    2: \"The second document is longer. It also contains some text.\", \n",
    "    3: \"This is the third document. It is different from the first two.\", \n",
    "} "
   ]
  },
  {
   "cell_type": "code",
   "execution_count": 10,
   "id": "0129a5b3",
   "metadata": {},
   "outputs": [],
   "source": [
    "def preprocess_document(doc): \n",
    "    # Convert to lowercase and tokenize \n",
    "    tokens = re.findall(r'\\w+', doc.lower()) \n",
    "    # Remove stop words (you can define your own list of stop words) \n",
    "    stop_words = set([\"is\", \"the\", \"it\", \"and\", \"some\"]) \n",
    "    tokens = [token for token in tokens if token not in stop_words] \n",
    "    return tokens"
   ]
  },
  {
   "cell_type": "code",
   "execution_count": 11,
   "id": "9b4861ca",
   "metadata": {},
   "outputs": [],
   "source": [
    "inverted_index = defaultdict(list) \n",
    "for doc_id, doc_text in documents.items(): \n",
    "    tokens = preprocess_document(doc_text) \n",
    "    for token in tokens: \n",
    "        inverted_index[token].append(doc_id) "
   ]
  },
  {
   "cell_type": "code",
   "execution_count": 12,
   "id": "3cb49230",
   "metadata": {},
   "outputs": [],
   "source": [
    "def retrieve_documents(query): \n",
    "    query_tokens = preprocess_document(query) \n",
    "    result = set() \n",
    "    for token in query_tokens: \n",
    "        if token in inverted_index: \n",
    "            result.update(inverted_index[token]) \n",
    "    return list(result) "
   ]
  },
  {
   "cell_type": "code",
   "execution_count": 13,
   "id": "2870d9c6",
   "metadata": {},
   "outputs": [],
   "source": [
    "query = \"document contains text\" \n",
    "matching_documents = retrieve_documents(query) "
   ]
  },
  {
   "cell_type": "code",
   "execution_count": 14,
   "id": "9c8572b3",
   "metadata": {},
   "outputs": [
    {
     "name": "stdout",
     "output_type": "stream",
     "text": [
      "Matching documents for query 'document contains text':\n",
      "Document 1: This is the first document. It contains some text.\n",
      "Document 2: The second document is longer. It also contains some text.\n"
     ]
    }
   ],
   "source": [
    "if matching_documents: \n",
    "    print(f\"Matching documents for query '{query}':\") \n",
    "    for doc_id in matching_documents: \n",
    "        print(f\"Document {doc_id}: {documents[doc_id]}\") \n",
    "else: \n",
    "    print(\"No matching documents found.\")"
   ]
  },
  {
   "cell_type": "code",
   "execution_count": null,
   "id": "48b52d12",
   "metadata": {},
   "outputs": [],
   "source": []
  }
 ],
 "metadata": {
  "kernelspec": {
   "display_name": "Python 3 (ipykernel)",
   "language": "python",
   "name": "python3"
  },
  "language_info": {
   "codemirror_mode": {
    "name": "ipython",
    "version": 3
   },
   "file_extension": ".py",
   "mimetype": "text/x-python",
   "name": "python",
   "nbconvert_exporter": "python",
   "pygments_lexer": "ipython3",
   "version": "3.11.5"
  }
 },
 "nbformat": 4,
 "nbformat_minor": 5
}
